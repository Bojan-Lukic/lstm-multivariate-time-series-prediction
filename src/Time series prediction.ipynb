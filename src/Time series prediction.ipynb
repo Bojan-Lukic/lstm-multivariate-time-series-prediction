{
 "cells": [
  {
   "cell_type": "code",
   "execution_count": null,
   "metadata": {},
   "outputs": [],
   "source": [
    "import tensorflow as tf\n",
    "import statistics\n",
    "import matplotlib as mpl\n",
    "import matplotlib.pyplot as plt\n",
    "import numpy as np\n",
    "import os\n",
    "import pandas as pd\n",
    "from math import sqrt\n",
    "from sklearn.metrics import mean_squared_error\n",
    "from sklearn.metrics import mean_absolute_error\n",
    "from tensorflow.keras.layers import Dropout\n",
    "from tensorflow.keras.regularizers import l2\n",
    "from data import *\n",
    "from plot import *\n",
    "\n",
    "\n",
    "mpl.rcParams['figure.figsize'] = (8, 6)\n",
    "mpl.rcParams['axes.grid'] = False\n",
    "\n",
    "df = pd.read_csv('resources/weather3.csv')\n",
    "\n",
    "TRAIN_SPLIT = 60000\n",
    "tf.random.set_seed(13)\n",
    "BATCH_SIZE = 512\n",
    "BUFFER_SIZE = 60000\n",
    "EVALUATION_INTERVAL = 150\n",
    "EPOCHS = 2\n",
    "\n",
    "features_considered = ['temp', 'hum', 'airpr', 'solrad', 'windvel']\n",
    "features = df[features_considered]\n",
    "features.index = df['date']\n",
    "\n",
    "dataset = features.values\n",
    "data_mean = dataset[:TRAIN_SPLIT].mean(axis=0)\n",
    "data_std = dataset[:TRAIN_SPLIT].std(axis=0)\n",
    "dataset = (dataset-data_mean)/data_std\n",
    "\n",
    "past_history = 48\n",
    "future_target = 12\n",
    "STEP = 1\n",
    "\n",
    "x_train_multi, y_train_multi = multivariate_data(dataset, dataset[:, 1], 0,\n",
    "                                                 TRAIN_SPLIT, past_history,\n",
    "                                                 future_target, STEP)\n",
    "x_val_multi, y_val_multi = multivariate_data(dataset, dataset[:, 1],\n",
    "                                             TRAIN_SPLIT, None, past_history,\n",
    "                                             future_target, STEP)\n",
    "\n",
    "\n",
    "train_data_multi = tf.data.Dataset.from_tensor_slices((x_train_multi, y_train_multi))\n",
    "train_data_multi = train_data_multi.cache().shuffle(BUFFER_SIZE).batch(BATCH_SIZE).repeat()\n",
    "val_data_multi = tf.data.Dataset.from_tensor_slices((x_val_multi, y_val_multi))\n",
    "val_data_multi = val_data_multi.batch(BATCH_SIZE).repeat()\n",
    "\n",
    "multi_step_model = tf.keras.models.Sequential()\n",
    "multi_step_model.add(tf.keras.layers.LSTM(32, kernel_regularizer=l2(0.005), \n",
    "                                          recurrent_regularizer=l2(0.005), bias_regularizer=l2(0.005), \n",
    "                                          return_sequences=True, input_shape=x_train_multi.shape[-2:]))\n",
    "multi_step_model.add(tf.keras.layers.LSTM(16, activation='relu'))\n",
    "multi_step_model.add(tf.keras.layers.Dense(12))\n",
    "multi_step_model.compile(optimizer='adam', loss='mse')\n",
    "multi_step_history = multi_step_model.fit(train_data_multi, epochs=EPOCHS,\n",
    "                                          steps_per_epoch=EVALUATION_INTERVAL,\n",
    "                                          validation_data=val_data_multi,\n",
    "                                          validation_steps=50)\n",
    "\n",
    "#winddir disregarded\n",
    "#20 EPOCHS á 100 EVALUATION INTERVALS\n",
    "#TARGET = 24 hours\n",
    "#++++++++++++++++++++++++++++++++++++\n",
    "#Not too many neurons to not overfit! Not too few to not underfit!\n",
    "#More than one hidden layer leads to exploding gradient!\n",
    "#More hidden layers can decrease chance of underfit\n",
    "#Too low regularizer (~ 0.001) tends to cause underfit!\n",
    "#winddir disregarded\n",
    "#30 EPOCHS á 150 EVALUATION INTERVALS\n",
    "#TARGET = 12 hours\n",
    "#HISTORY = 48\n",
    "#Adding l2 Regularizer of 0.005 to avoid overfitting\n",
    "#BATCH SIZE = 512\n",
    "#BUFFER SIZE = 60000"
   ]
  },
  {
   "cell_type": "code",
   "execution_count": null,
   "metadata": {},
   "outputs": [],
   "source": [
    "plot_train_history(multi_step_history, 'Multi-step training and validation loss')"
   ]
  },
  {
   "cell_type": "code",
   "execution_count": null,
   "metadata": {
    "scrolled": false
   },
   "outputs": [],
   "source": [
    "for x, y in val_data_multi.take(50):\n",
    "    multi_step_plot(x[0], y[0], multi_step_model.predict(x)[0], 'Multi-step time series prediction', STEP)"
   ]
  }
 ],
 "metadata": {
  "kernelspec": {
   "display_name": "Python 3 (ipykernel)",
   "language": "python",
   "name": "python3"
  },
  "language_info": {
   "codemirror_mode": {
    "name": "ipython",
    "version": 3
   },
   "file_extension": ".py",
   "mimetype": "text/x-python",
   "name": "python",
   "nbconvert_exporter": "python",
   "pygments_lexer": "ipython3",
   "version": "3.7.0"
  }
 },
 "nbformat": 4,
 "nbformat_minor": 4
}
